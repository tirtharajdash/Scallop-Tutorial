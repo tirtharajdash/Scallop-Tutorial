{
 "cells": [
  {
   "cell_type": "code",
   "execution_count": 1,
   "id": "df1f25c4",
   "metadata": {},
   "outputs": [],
   "source": [
    "import scallopy"
   ]
  },
  {
   "cell_type": "code",
   "execution_count": 2,
   "id": "5dfc6ddd",
   "metadata": {},
   "outputs": [],
   "source": [
    "ctx = scallopy.ScallopContext()"
   ]
  },
  {
   "cell_type": "code",
   "execution_count": 3,
   "id": "593d44da",
   "metadata": {},
   "outputs": [],
   "source": [
    "ctx.add_relation(\"hello\", str)"
   ]
  },
  {
   "cell_type": "code",
   "execution_count": 4,
   "id": "a1d23349",
   "metadata": {},
   "outputs": [],
   "source": [
    "ctx.add_facts(\"hello\", [(\"Hello World\",)])"
   ]
  },
  {
   "cell_type": "code",
   "execution_count": 5,
   "id": "f6df1b28",
   "metadata": {},
   "outputs": [],
   "source": [
    "ctx.run()"
   ]
  },
  {
   "cell_type": "code",
   "execution_count": 6,
   "id": "af5c1cfe",
   "metadata": {},
   "outputs": [
    {
     "name": "stdout",
     "output_type": "stream",
     "text": [
      "[('Hello World',)]\n"
     ]
    }
   ],
   "source": [
    "print(list(ctx.relation(\"hello\")))"
   ]
  },
  {
   "cell_type": "code",
   "execution_count": 7,
   "id": "b2b2f167",
   "metadata": {},
   "outputs": [],
   "source": [
    "ctx = scallopy.ScallopContext()\n",
    "\n",
    "ctx.add_relation(\"node\", (int,))\n",
    "ctx.add_relation(\"edge\", (int, int))\n",
    "ctx.add_relation(\"path\", (int, int))\n",
    "ctx.add_relation(\"scc\", (int, int))"
   ]
  },
  {
   "cell_type": "code",
   "execution_count": 8,
   "id": "0af2f9df",
   "metadata": {},
   "outputs": [],
   "source": [
    "ctx.run()"
   ]
  },
  {
   "cell_type": "code",
   "execution_count": 9,
   "id": "8d00d258",
   "metadata": {},
   "outputs": [],
   "source": [
    "ctx.add_facts(\"node\", [(0,), (1,), (2,), (3,), (4,)])\n",
    "ctx.add_facts(\"edge\", [(0, 2), (2, 1), (1, 0), (0, 3), (3, 4)])"
   ]
  },
  {
   "cell_type": "code",
   "execution_count": 10,
   "id": "3f116ac8",
   "metadata": {},
   "outputs": [
    {
     "name": "stdout",
     "output_type": "stream",
     "text": [
      "paths: []\n"
     ]
    }
   ],
   "source": [
    "ctx.run()\n",
    "print(\"paths:\", list(ctx.relation(\"path\")))"
   ]
  },
  {
   "cell_type": "code",
   "execution_count": 11,
   "id": "afd8ac4c",
   "metadata": {},
   "outputs": [],
   "source": [
    "ctx.add_rule(\"scc(a, a) = node(a)\")\n",
    "ctx.add_rule(\"scc(a, b) = path(a, b) and path(b, a)\")"
   ]
  },
  {
   "cell_type": "code",
   "execution_count": 12,
   "id": "253a2009",
   "metadata": {},
   "outputs": [
    {
     "name": "stdout",
     "output_type": "stream",
     "text": [
      "sccs: [(0, 0), (1, 1), (2, 2), (3, 3), (4, 4)]\n"
     ]
    }
   ],
   "source": [
    "ctx.run()\n",
    "print(\"sccs:\", list(ctx.relation(\"scc\")))"
   ]
  },
  {
   "cell_type": "code",
   "execution_count": 17,
   "id": "667cd8fd",
   "metadata": {},
   "outputs": [
    {
     "name": "stdout",
     "output_type": "stream",
     "text": [
      "0.4317315468560335 (0,)\n",
      "0.5969504177880314 (1,)\n",
      "0.816033995122127 (2,)\n",
      "0.7494719705377505 (3,)\n",
      "0.5378816752699003 (4,)\n",
      "0.30461549414440997 (5,)\n",
      "0.07853274535885565 (6,)\n"
     ]
    }
   ],
   "source": [
    "import random\n",
    "\n",
    "#seed for reproducibility\n",
    "random.seed(0)\n",
    "\n",
    "# Create a scallop context using the `topkproofs` provenance\n",
    "ctx = scallopy.ScallopContext(provenance=\"topkproofs\")\n",
    "\n",
    "# Add a relation storing the possibilities for the first digit (0-3)\n",
    "ctx.add_relation(\"digit_1\", int)\n",
    "ctx.add_facts(\"digit_1\", [(random.random(), (i,)) for i in range(4)])\n",
    "\n",
    "# Add a relation storing the possibilities for the second digit (0-3)\n",
    "ctx.add_relation(\"digit_2\", int)\n",
    "ctx.add_facts(\"digit_2\", [(random.random(), (i,)) for i in range(4)])\n",
    "\n",
    "ctx.add_rule(\"sum_2(a + b) = digit_1(a), digit_2(b)\")\n",
    "\n",
    "# Run the scallop program\n",
    "ctx.run()\n",
    "\n",
    "# Get the results from relation sum_2\n",
    "for prob, tup in ctx.relation(\"sum_2\"):\n",
    "  print(prob, tup)"
   ]
  },
  {
   "cell_type": "code",
   "execution_count": null,
   "id": "c2c09fb9",
   "metadata": {},
   "outputs": [],
   "source": []
  }
 ],
 "metadata": {
  "kernelspec": {
   "display_name": "Python 3 (ipykernel)",
   "language": "python",
   "name": "python3"
  },
  "language_info": {
   "codemirror_mode": {
    "name": "ipython",
    "version": 3
   },
   "file_extension": ".py",
   "mimetype": "text/x-python",
   "name": "python",
   "nbconvert_exporter": "python",
   "pygments_lexer": "ipython3",
   "version": "3.9.13"
  }
 },
 "nbformat": 4,
 "nbformat_minor": 5
}
