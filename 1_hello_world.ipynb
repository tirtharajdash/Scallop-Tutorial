{
 "cells": [
  {
   "cell_type": "code",
   "execution_count": 1,
   "id": "df1f25c4",
   "metadata": {},
   "outputs": [],
   "source": [
    "import scallopy"
   ]
  },
  {
   "cell_type": "code",
   "execution_count": 2,
   "id": "5dfc6ddd",
   "metadata": {},
   "outputs": [],
   "source": [
    "ctx = scallopy.ScallopContext()"
   ]
  },
  {
   "cell_type": "code",
   "execution_count": 3,
   "id": "593d44da",
   "metadata": {},
   "outputs": [],
   "source": [
    "ctx.add_relation(\"hello\", str)"
   ]
  },
  {
   "cell_type": "code",
   "execution_count": 4,
   "id": "a1d23349",
   "metadata": {},
   "outputs": [],
   "source": [
    "ctx.add_facts(\"hello\", [(\"Hello World\",)])"
   ]
  },
  {
   "cell_type": "code",
   "execution_count": 5,
   "id": "f6df1b28",
   "metadata": {},
   "outputs": [],
   "source": [
    "ctx.run()"
   ]
  },
  {
   "cell_type": "code",
   "execution_count": 6,
   "id": "af5c1cfe",
   "metadata": {},
   "outputs": [
    {
     "name": "stdout",
     "output_type": "stream",
     "text": [
      "[('Hello World',)]\n"
     ]
    }
   ],
   "source": [
    "print(list(ctx.relation(\"hello\")))"
   ]
  }
 ],
 "metadata": {
  "kernelspec": {
   "display_name": "Python 3.9.13 ('scallop-env')",
   "language": "python",
   "name": "python3"
  },
  "language_info": {
   "codemirror_mode": {
    "name": "ipython",
    "version": 3
   },
   "file_extension": ".py",
   "mimetype": "text/x-python",
   "name": "python",
   "nbconvert_exporter": "python",
   "pygments_lexer": "ipython3",
   "version": "3.9.13"
  },
  "vscode": {
   "interpreter": {
    "hash": "de0bbaa1e13d7e16573b331d0688d1c20748817d2b88964afee7e536c2b8e5c8"
   }
  }
 },
 "nbformat": 4,
 "nbformat_minor": 5
}
